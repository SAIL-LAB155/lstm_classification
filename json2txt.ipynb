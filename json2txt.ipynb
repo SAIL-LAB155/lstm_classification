{
 "cells": [
  {
   "cell_type": "code",
   "execution_count": 10,
   "metadata": {},
   "outputs": [],
   "source": [
    "import os\n",
    "import cv2\n",
    "import tqdm\n",
    "import numpy as np\n",
    "import pandas as pd"
   ]
  },
  {
   "cell_type": "code",
   "execution_count": 403,
   "metadata": {},
   "outputs": [],
   "source": [
    "class JsonScanner():\n",
    "    \n",
    "    def __init__(self, input_dir=None, output_dir=None):\n",
    "        \"\"\"Initialize \n",
    "        input_dir: directory of json files with corresponding videos\n",
    "        output_dir: directory of ouput txt fiels\n",
    "        \"\"\"\n",
    "        self.input_dir = input_dir\n",
    "        self.output_dir = output_dir\n",
    "        self.json_paths = self.get_json_paths()\n",
    "        self.video_paths, self.video_names = self.get_video_paths()\n",
    "        self.index_dict = self.get_index_dict()\n",
    "        return None\n",
    "    \n",
    "    def get_json_paths(self):\n",
    "        json_paths = []\n",
    "        for json_file in os.listdir(self.input_dir):\n",
    "            if json_file.split('.')[-1] == 'json':\n",
    "                path = os.path.join(self.input_dir, json_file)\n",
    "                json_paths.append(path)\n",
    "            \n",
    "        return json_paths\n",
    "    \n",
    "    def get_video_paths(self):\n",
    "        video_paths = []\n",
    "        video_names = {}\n",
    "        for video_file in os.listdir(self.input_dir):\n",
    "            if video_file.split('.')[-1] != 'json':\n",
    "                path = os.path.join(self.input_dir, video_file)\n",
    "                video_paths.append(path)\n",
    "                video_names[video_file.split('.')[0]] = path\n",
    "        return video_paths, video_names\n",
    "        \n",
    "    def get_index_dict(self):\n",
    "        index_dict = {}\n",
    "        for json_path in self.json_paths:\n",
    "            video_name = self.extract_file_id(json_path)\n",
    "            index_dict[json_path] = self.video_names[video_name]\n",
    "            \n",
    "        return index_dict\n",
    "    \n",
    "    def get_video_info(self, video_path):\n",
    "        cap = cv2.VideoCapture(video_path)\n",
    "        width = int(cap.get(3))\n",
    "        height = int(cap.get(4))\n",
    "        cap.release()\n",
    "        return width, height\n",
    "    \n",
    "    def drop_scores(self, data_list):\n",
    "        new_list = []\n",
    "        for index,value in enumerate(data_list):\n",
    "            if (index+1)%3 == 0 :\n",
    "                continue\n",
    "            else:\n",
    "                new_list.append(value)\n",
    "        return new_list\n",
    "    \n",
    "    def normalize_coordinates(self, coordinates, w, h ):\n",
    "        for i in range(len(coordinates)):\n",
    "            if (i+1)%2 == 0:\n",
    "                coordinates[i] = coordinates[i] / h\n",
    "            else:\n",
    "                coordinates[i] = coordinates[i] / w\n",
    "        return coordinates\n",
    "    \n",
    "    def extract_file_id(self, path):\n",
    "        file_id = os.path.split(path)[-1]\n",
    "        file_id = file_id.split('.')[0]\n",
    "        \n",
    "        return file_id\n",
    "    \n",
    "    def json2txt(self,json_path):\n",
    "        keypoints = pd.read_json(json_path, orient='dict')['keypoints']\n",
    "        w, h = self.get_video_info(self.index_dict[json_path])\n",
    "        for i in range(len(keypoints)):\n",
    "            keypoints[i] = self.drop_scores(keypoints[i])\n",
    "            keypoints[i] = self.normalize_coordinates(keypoints[i], w, h)\n",
    "            \n",
    "        keypoints = np.array(keypoints.tolist())\n",
    "        txt_name = self.extract_file_id(json_path) + '.txt'\n",
    "        txt_path = os.path.join(self.output_dir, txt_name)\n",
    "        np.savetxt(txt_path, keypoints, fmt='%.8f')\n",
    "        return None\n",
    "    \n",
    "    def run(self):\n",
    "        for i in self.json_paths:\n",
    "            print(i)\n",
    "            self.json2txt(i)\n",
    "        return"
   ]
  },
  {
   "cell_type": "code",
   "execution_count": 404,
   "metadata": {},
   "outputs": [],
   "source": [
    "js = JsonScanner(input_dir='input', output_dir='output')"
   ]
  },
  {
   "cell_type": "code",
   "execution_count": 406,
   "metadata": {},
   "outputs": [
    {
     "name": "stdout",
     "output_type": "stream",
     "text": [
      "input\\AlphaPose_drowning1.json\n",
      "input\\AlphaPose_drowning10.json\n",
      "input\\AlphaPose_drowning12.json\n",
      "input\\AlphaPose_drowning13.json\n",
      "input\\AlphaPose_drowning2.json\n",
      "input\\AlphaPose_drowning3.json\n"
     ]
    }
   ],
   "source": [
    "js.run()"
   ]
  },
  {
   "cell_type": "code",
   "execution_count": null,
   "metadata": {},
   "outputs": [],
   "source": []
  }
 ],
 "metadata": {
  "kernelspec": {
   "display_name": "Python 2",
   "language": "python",
   "name": "python2"
  },
  "language_info": {
   "codemirror_mode": {
    "name": "ipython",
    "version": 2
   },
   "file_extension": ".py",
   "mimetype": "text/x-python",
   "name": "python",
   "nbconvert_exporter": "python",
   "pygments_lexer": "ipython2",
   "version": "2.7.12"
  }
 },
 "nbformat": 4,
 "nbformat_minor": 2
}
