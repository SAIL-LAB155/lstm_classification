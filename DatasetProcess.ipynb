{
 "cells": [
  {
   "cell_type": "markdown",
   "metadata": {},
   "source": [
    "## 利用AlphaPose批量处理给定路径下的所有视频"
   ]
  },
  {
   "cell_type": "code",
   "execution_count": 13,
   "metadata": {},
   "outputs": [],
   "source": [
    "import os\n",
    "from tqdm import tqdm\n",
    "import shutil"
   ]
  },
  {
   "cell_type": "markdown",
   "metadata": {},
   "source": [
    "#### 设置目标文件夹的路径"
   ]
  },
  {
   "cell_type": "code",
   "execution_count": 14,
   "metadata": {},
   "outputs": [],
   "source": [
    "input_dir = \"DatasetProcess/input\"\n",
    "output_dir = \"DatasetProcess/output\"\n",
    "buffer_dir = \"DatasetProcess/buffer\""
   ]
  },
  {
   "cell_type": "markdown",
   "metadata": {},
   "source": [
    "#### 构建所需函数"
   ]
  },
  {
   "cell_type": "code",
   "execution_count": 15,
   "metadata": {},
   "outputs": [],
   "source": [
    "def buffer2output(video_name, buffer_dir, output_dir):\n",
    "    # 将buffer_dir路径下的所有文件，分情况转移到output_dir\n",
    "    for file_name in os.listdir(buffer_dir):\n",
    "        # get path of input file\n",
    "        path1 = os.path.join(buffer_dir, file_name)\n",
    "        if file_name.split('.')[-1] == 'json':\n",
    "            # for json file, add prefix of \"AlphaPose\"，and generate new file path\n",
    "            path2 = os.path.join(output_dir, \"AlphaPose_\"+video_name+'.json')    \n",
    "        else:\n",
    "            # for other type (video), generate new file path\n",
    "            path2 = os.path.join(output_dir, file_name)   \n",
    "        # transfer target file from one folder to another one\n",
    "        shutil.move(path1, path2)\n",
    "    return None"
   ]
  },
  {
   "cell_type": "markdown",
   "metadata": {},
   "source": [
    "#### 批量处理给定路径下的所有视频"
   ]
  },
  {
   "cell_type": "code",
   "execution_count": 16,
   "metadata": {},
   "outputs": [
    {
     "name": "stderr",
     "output_type": "stream",
     "text": [
      "100%|██████████| 65/65 [24:26<00:00, 27.60s/it]\n"
     ]
    }
   ],
   "source": [
    "for i in tqdm(os.listdir(input_dir)):\n",
    "    # get file path\n",
    "    video_path = os.path.join(input_dir, i)\n",
    "    # extract video name\n",
    "    video_name = i.split('.')[0]\n",
    "    # generate cmd to call AlphaPose\n",
    "    cmd = \"python3 video_demo.py --video {} --outdir {} --save_video\".format(video_path, buffer_dir)\n",
    "    # run above cmd\n",
    "    os.system(cmd)\n",
    "    # transfer processed fiels from buffer to output folder\n",
    "    buffer2output(video_name, buffer_dir, output_dir)"
   ]
  },
  {
   "cell_type": "code",
   "execution_count": null,
   "metadata": {},
   "outputs": [],
   "source": []
  }
 ],
 "metadata": {
  "kernelspec": {
   "display_name": "Python 3",
   "language": "python",
   "name": "python3"
  },
  "language_info": {
   "codemirror_mode": {
    "name": "ipython",
    "version": 3
   },
   "file_extension": ".py",
   "mimetype": "text/x-python",
   "name": "python",
   "nbconvert_exporter": "python",
   "pygments_lexer": "ipython3",
   "version": "3.6.8"
  }
 },
 "nbformat": 4,
 "nbformat_minor": 2
}
