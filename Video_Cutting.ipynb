{
 "cells": [
  {
   "cell_type": "markdown",
   "metadata": {},
   "source": [
    "## 将指定路径下的所有视频切片"
   ]
  },
  {
   "cell_type": "markdown",
   "metadata": {},
   "source": [
    "### 导入相关库"
   ]
  },
  {
   "cell_type": "code",
   "execution_count": 4,
   "metadata": {},
   "outputs": [],
   "source": [
    "import os\n",
    "import cv2\n",
    "from tqdm import tqdm\n",
    "import numpy as np"
   ]
  },
  {
   "cell_type": "markdown",
   "metadata": {},
   "source": [
    "### 视频切割 - 1"
   ]
  },
  {
   "cell_type": "code",
   "execution_count": 1,
   "metadata": {},
   "outputs": [],
   "source": [
    "\n",
    "def VideoCutting(input_dir, output_dir, target_length=30, label='normal'):\n",
    "    \"\"\"Cutting the videos into small slices with specified frames\n",
    "    Args:\n",
    "        input_dir: the directory containing a lot of videos\n",
    "        output_dir: the directory will be used to store slices\n",
    "        target_length: length of frame in each sliced video\n",
    "    Return:\n",
    "        None\n",
    "    \"\"\"\n",
    "    # Extract the path of each video\n",
    "    videos = os.listdir(input_dir)\n",
    "    videos = [os.path.join(input_dir,i) for i in videos]\n",
    "    # Start to cutting\n",
    "    for video in tqdm(videos):\n",
    "        # Read video and get num of frames\n",
    "        cap = cv2.VideoCapture(video) \n",
    "        num_frames = int(cap.get(7)) \n",
    "        # Initialize an empty list for video clip\n",
    "        sliced_video = [] \n",
    "        # Start to cut video into clips\n",
    "        for i in range(num_frames):\n",
    "            _,frame = cap.read()\n",
    "            sliced_video.append(frame) \n",
    "            # Save the clip\n",
    "            if len(sliced_video) == target_length:\n",
    "                Array2Video(video=np.array(sliced_video), save_dir=output_dir, fps=30, label=label)\n",
    "                # Reset slice buffer\n",
    "                sliced_video = []\n",
    "        cap.release() \n",
    "    \n",
    "                \n",
    "    return None"
   ]
  },
  {
   "cell_type": "markdown",
   "metadata": {},
   "source": [
    "### 视频写入 - 2"
   ]
  },
  {
   "cell_type": "code",
   "execution_count": 2,
   "metadata": {},
   "outputs": [],
   "source": [
    "def Array2Video(video, save_dir, fps, label):\n",
    "    video_num = len(os.listdir(save_dir))\n",
    "    video_name = label + '_' + str(video_num) + '.avi'\n",
    "    save_path = os.path.join(save_dir, video_name)\n",
    "    f,w,h,c = video.shape\n",
    "    fourcc = cv2.VideoWriter_fourcc(*'MJPG')\n",
    "    VideoWriter = cv2.VideoWriter(save_path,fourcc,fps,(h,w),True)\n",
    "    for i in range(len(video)):\n",
    "        frame = video[i]\n",
    "        #frame = cv2.resize(frame,(224,224))\n",
    "        VideoWriter.write(np.uint8(frame))\n",
    "        \n",
    "    VideoWriter.release()\n",
    "    return None"
   ]
  },
  {
   "cell_type": "markdown",
   "metadata": {},
   "source": [
    "### 执行切片"
   ]
  },
  {
   "cell_type": "code",
   "execution_count": 7,
   "metadata": {},
   "outputs": [
    {
     "name": "stderr",
     "output_type": "stream",
     "text": [
      "100%|██████████| 55/55 [04:27<00:00,  4.81s/it]\n"
     ]
    }
   ],
   "source": [
    "input_dir = r'./singledrown_cut2s'\n",
    "output_dir = r'./Drown_cut1s' \n",
    "label = 'drown'\n",
    "VideoCutting(input_dir, output_dir, target_length=30, label=label)"
   ]
  },
  {
   "cell_type": "code",
   "execution_count": 6,
   "metadata": {},
   "outputs": [
    {
     "name": "stderr",
     "output_type": "stream",
     "text": [
      "\n",
      "  0%|          | 0/106 [00:00<?, ?it/s]\u001b[A\n",
      "  1%|          | 1/106 [00:04<08:23,  4.80s/it]\u001b[A\n",
      "  2%|▏         | 2/106 [00:09<08:20,  4.81s/it]\u001b[A\n",
      "  3%|▎         | 3/106 [00:14<08:11,  4.77s/it]\u001b[A\n",
      "  4%|▍         | 4/106 [00:19<08:28,  4.99s/it]\u001b[A\n",
      "  5%|▍         | 5/106 [00:24<08:20,  4.95s/it]\u001b[A\n",
      "  6%|▌         | 6/106 [00:29<08:13,  4.94s/it]\u001b[A\n",
      "  7%|▋         | 7/106 [00:29<05:50,  3.54s/it]\u001b[A\n",
      "  8%|▊         | 8/106 [00:34<06:25,  3.93s/it]\u001b[A\n",
      "  8%|▊         | 9/106 [00:39<06:54,  4.27s/it]\u001b[A\n",
      "  9%|▉         | 10/106 [00:44<07:06,  4.44s/it]\u001b[A\n",
      " 10%|█         | 11/106 [00:49<07:10,  4.54s/it]\u001b[A\n",
      " 11%|█▏        | 12/106 [00:54<07:20,  4.69s/it]\u001b[A\n",
      " 12%|█▏        | 13/106 [00:59<07:29,  4.83s/it]\u001b[A\n",
      " 13%|█▎        | 14/106 [01:04<07:38,  4.98s/it]\u001b[A\n",
      " 14%|█▍        | 15/106 [01:09<07:30,  4.95s/it]\u001b[A\n",
      " 15%|█▌        | 16/106 [01:14<07:23,  4.93s/it]\u001b[A\n",
      " 16%|█▌        | 17/106 [01:19<07:27,  5.03s/it]\u001b[A\n",
      " 17%|█▋        | 18/106 [01:25<07:33,  5.15s/it]\u001b[A\n",
      " 18%|█▊        | 19/106 [01:30<07:24,  5.11s/it]\u001b[A\n",
      " 19%|█▉        | 20/106 [01:34<07:03,  4.92s/it]\u001b[A\n",
      " 20%|█▉        | 21/106 [01:39<07:00,  4.95s/it]\u001b[A\n",
      " 21%|██        | 22/106 [01:44<06:45,  4.82s/it]\u001b[A\n",
      " 22%|██▏       | 23/106 [01:49<06:47,  4.91s/it]\u001b[A\n",
      " 23%|██▎       | 24/106 [01:54<06:48,  4.98s/it]\u001b[A\n",
      " 24%|██▎       | 25/106 [02:00<06:53,  5.10s/it]\u001b[A\n",
      " 25%|██▍       | 26/106 [02:05<06:53,  5.17s/it]\u001b[A\n",
      " 25%|██▌       | 27/106 [02:10<06:52,  5.22s/it]\u001b[A\n",
      " 26%|██▋       | 28/106 [02:15<06:39,  5.13s/it]\u001b[A\n",
      " 27%|██▋       | 29/106 [02:20<06:25,  5.01s/it]\u001b[A\n",
      " 28%|██▊       | 30/106 [02:25<06:17,  4.97s/it]\u001b[A\n",
      " 29%|██▉       | 31/106 [02:29<06:05,  4.88s/it]\u001b[A\n",
      " 30%|███       | 32/106 [02:34<06:01,  4.88s/it]\u001b[A\n",
      " 31%|███       | 33/106 [02:40<06:04,  4.99s/it]\u001b[A\n",
      " 32%|███▏      | 34/106 [02:44<05:55,  4.94s/it]\u001b[A\n",
      " 33%|███▎      | 35/106 [02:50<05:57,  5.04s/it]\u001b[A\n",
      " 34%|███▍      | 36/106 [02:55<05:50,  5.01s/it]\u001b[A\n",
      " 35%|███▍      | 37/106 [02:55<04:08,  3.60s/it]\u001b[A\n",
      " 36%|███▌      | 38/106 [03:00<04:37,  4.07s/it]\u001b[A\n",
      " 37%|███▋      | 39/106 [03:05<04:55,  4.41s/it]\u001b[A\n",
      " 38%|███▊      | 40/106 [03:12<05:32,  5.03s/it]\u001b[A\n",
      " 39%|███▊      | 41/106 [03:17<05:26,  5.03s/it]\u001b[A\n",
      " 40%|███▉      | 42/106 [03:21<05:15,  4.93s/it]\u001b[A\n",
      " 41%|████      | 43/106 [03:27<05:18,  5.05s/it]\u001b[A\n",
      " 42%|████▏     | 44/106 [03:32<05:20,  5.16s/it]\u001b[A\n",
      " 42%|████▏     | 45/106 [03:37<05:14,  5.15s/it]\u001b[A\n",
      " 43%|████▎     | 46/106 [03:42<05:00,  5.00s/it]\u001b[A\n",
      " 44%|████▍     | 47/106 [03:47<04:59,  5.08s/it]\u001b[A\n",
      " 45%|████▌     | 48/106 [03:52<04:54,  5.08s/it]\u001b[A\n",
      " 46%|████▌     | 49/106 [03:58<04:57,  5.22s/it]\u001b[A\n",
      " 47%|████▋     | 50/106 [03:59<03:47,  4.06s/it]\u001b[A\n",
      " 48%|████▊     | 51/106 [04:05<04:03,  4.42s/it]\u001b[A\n",
      " 49%|████▉     | 52/106 [04:10<04:12,  4.68s/it]\u001b[A\n",
      " 50%|█████     | 53/106 [04:15<04:11,  4.75s/it]\u001b[A\n",
      " 51%|█████     | 54/106 [04:20<04:14,  4.90s/it]\u001b[A\n",
      " 52%|█████▏    | 55/106 [04:25<04:16,  5.02s/it]\u001b[A\n",
      " 53%|█████▎    | 56/106 [04:31<04:14,  5.09s/it]\u001b[A\n",
      " 54%|█████▍    | 57/106 [04:37<04:25,  5.43s/it]\u001b[A\n",
      " 55%|█████▍    | 58/106 [04:42<04:20,  5.43s/it]\u001b[A\n",
      " 56%|█████▌    | 59/106 [04:47<04:06,  5.25s/it]\u001b[A\n",
      " 57%|█████▋    | 60/106 [04:52<03:58,  5.19s/it]\u001b[A\n",
      " 58%|█████▊    | 61/106 [04:57<03:54,  5.22s/it]\u001b[A\n",
      " 58%|█████▊    | 62/106 [05:02<03:43,  5.07s/it]\u001b[A\n",
      " 59%|█████▉    | 63/106 [05:07<03:42,  5.17s/it]\u001b[A\n",
      " 60%|██████    | 64/106 [05:14<03:50,  5.50s/it]\u001b[A\n",
      " 61%|██████▏   | 65/106 [05:19<03:47,  5.54s/it]\u001b[A\n",
      " 62%|██████▏   | 66/106 [05:25<03:42,  5.57s/it]\u001b[A\n",
      " 63%|██████▎   | 67/106 [05:31<03:42,  5.71s/it]\u001b[A\n",
      " 64%|██████▍   | 68/106 [05:36<03:28,  5.48s/it]\u001b[A\n",
      " 65%|██████▌   | 69/106 [05:41<03:13,  5.24s/it]\u001b[A\n",
      " 66%|██████▌   | 70/106 [05:46<03:06,  5.19s/it]\u001b[A\n",
      " 67%|██████▋   | 71/106 [05:52<03:14,  5.54s/it]\u001b[A\n",
      " 68%|██████▊   | 72/106 [05:57<03:01,  5.33s/it]\u001b[A\n",
      " 69%|██████▉   | 73/106 [06:02<02:53,  5.25s/it]\u001b[A\n",
      " 70%|██████▉   | 74/106 [06:08<02:53,  5.44s/it]\u001b[A\n",
      " 71%|███████   | 75/106 [06:13<02:46,  5.36s/it]\u001b[A\n",
      " 72%|███████▏  | 76/106 [06:19<02:47,  5.58s/it]\u001b[A\n",
      " 73%|███████▎  | 77/106 [06:24<02:34,  5.31s/it]\u001b[A\n",
      " 74%|███████▎  | 78/106 [06:30<02:34,  5.53s/it]\u001b[A\n",
      " 75%|███████▍  | 79/106 [06:35<02:24,  5.37s/it]\u001b[A\n",
      " 75%|███████▌  | 80/106 [06:40<02:20,  5.42s/it]\u001b[A\n",
      " 76%|███████▋  | 81/106 [06:45<02:08,  5.15s/it]\u001b[A\n",
      " 77%|███████▋  | 82/106 [06:50<01:59,  4.97s/it]\u001b[A\n",
      " 78%|███████▊  | 83/106 [06:55<01:55,  5.01s/it]\u001b[A\n",
      " 79%|███████▉  | 84/106 [07:00<01:49,  4.99s/it]\u001b[A\n",
      " 80%|████████  | 85/106 [07:05<01:47,  5.14s/it]\u001b[A\n",
      " 81%|████████  | 86/106 [07:10<01:40,  5.03s/it]\u001b[A\n",
      " 82%|████████▏ | 87/106 [07:15<01:38,  5.18s/it]\u001b[A\n",
      " 83%|████████▎ | 88/106 [07:21<01:34,  5.24s/it]\u001b[A\n",
      " 84%|████████▍ | 89/106 [07:26<01:27,  5.13s/it]\u001b[A\n",
      " 85%|████████▍ | 90/106 [07:26<00:58,  3.67s/it]\u001b[A\n",
      " 86%|████████▌ | 91/106 [07:31<01:00,  4.06s/it]\u001b[A\n",
      " 87%|████████▋ | 92/106 [07:36<01:02,  4.48s/it]\u001b[A\n",
      " 88%|████████▊ | 93/106 [07:37<00:44,  3.40s/it]\u001b[A\n",
      " 89%|████████▊ | 94/106 [07:37<00:29,  2.46s/it]\u001b[A\n",
      " 90%|████████▉ | 95/106 [07:43<00:35,  3.26s/it]\u001b[A\n",
      " 91%|█████████ | 96/106 [07:48<00:39,  3.91s/it]\u001b[A\n",
      " 92%|█████████▏| 97/106 [07:53<00:38,  4.28s/it]\u001b[A\n",
      " 92%|█████████▏| 98/106 [07:58<00:35,  4.48s/it]\u001b[A\n",
      " 93%|█████████▎| 99/106 [08:04<00:34,  4.96s/it]\u001b[A\n",
      " 94%|█████████▍| 100/106 [08:09<00:30,  5.04s/it]\u001b[A\n",
      " 95%|█████████▌| 101/106 [08:10<00:18,  3.67s/it]\u001b[A\n",
      " 96%|█████████▌| 102/106 [08:15<00:16,  4.23s/it]\u001b[A\n",
      " 97%|█████████▋| 103/106 [08:21<00:13,  4.66s/it]\u001b[A\n",
      " 98%|█████████▊| 104/106 [08:27<00:10,  5.01s/it]\u001b[A\n",
      " 99%|█████████▉| 105/106 [08:33<00:05,  5.32s/it]\u001b[A\n",
      "100%|██████████| 106/106 [08:39<00:00,  5.41s/it]\u001b[A"
     ]
    }
   ],
   "source": [
    "input_dir = r'./normal_cut2s'\n",
    "output_dir = r'./Normal_cut1s' \n",
    "label = 'normal'\n",
    "VideoCutting(input_dir, output_dir, target_length=30, label=label)"
   ]
  },
  {
   "cell_type": "code",
   "execution_count": null,
   "metadata": {},
   "outputs": [],
   "source": []
  },
  {
   "cell_type": "code",
   "execution_count": null,
   "metadata": {},
   "outputs": [],
   "source": []
  }
 ],
 "metadata": {
  "kernelspec": {
   "display_name": "Python 3",
   "language": "python",
   "name": "python3"
  },
  "language_info": {
   "codemirror_mode": {
    "name": "ipython",
    "version": 3
   },
   "file_extension": ".py",
   "mimetype": "text/x-python",
   "name": "python",
   "nbconvert_exporter": "python",
   "pygments_lexer": "ipython3",
   "version": "3.6.8"
  }
 },
 "nbformat": 4,
 "nbformat_minor": 4
}
