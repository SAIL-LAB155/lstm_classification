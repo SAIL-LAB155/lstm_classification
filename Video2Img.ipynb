{
 "cells": [
  {
   "cell_type": "code",
   "execution_count": 1,
   "metadata": {},
   "outputs": [],
   "source": [
    "import os\n",
    "import cv2\n",
    "from tqdm import tqdm\n",
    "import numpy as np"
   ]
  },
  {
   "cell_type": "code",
   "execution_count": 4,
   "metadata": {},
   "outputs": [],
   "source": [
    "\n",
    "def Video2Img(input_video, output_dir, sampling_interval=5):\n",
    "    \n",
    "    cap = cv2.VideoCapture(input_video)\n",
    "    num_frames = int(cap.get(7))\n",
    "    \n",
    "    for i in range(num_frames):\n",
    "        _, frame = cap.read()\n",
    "        if i%5==0:\n",
    "            frame = cv2.resize(frame, (608,608))\n",
    "            video_name = str(len(os.listdir(output_dir))) + '.jpg'\n",
    "            video_path = os.path.join(output_dir, video_name)\n",
    "            cv2.imwrite(video_path, frame)\n",
    "\n",
    "   \n",
    "    cap.release() \n",
    "                \n",
    "    return None"
   ]
  },
  {
   "cell_type": "code",
   "execution_count": 5,
   "metadata": {},
   "outputs": [],
   "source": [
    "input_dir = 'videos'\n",
    "output_dir = 'images'"
   ]
  },
  {
   "cell_type": "code",
   "execution_count": null,
   "metadata": {},
   "outputs": [
    {
     "name": "stderr",
     "output_type": "stream",
     "text": [
      " 99%|███████████████████████████████████████████████████████████████████████████████▌| 755/759 [05:21<00:01,  2.18it/s]"
     ]
    }
   ],
   "source": [
    "videos = [os.path.join(input_dir,i) for i in os.listdir(input_dir)]\n",
    "\n",
    "for video in tqdm(videos):\n",
    "    Video2Img(input_video=video, output_dir=output_dir, sampling_interval=5)"
   ]
  },
  {
   "cell_type": "code",
   "execution_count": null,
   "metadata": {},
   "outputs": [],
   "source": []
  }
 ],
 "metadata": {
  "kernelspec": {
   "display_name": "Python 2",
   "language": "python",
   "name": "python2"
  },
  "language_info": {
   "codemirror_mode": {
    "name": "ipython",
    "version": 2
   },
   "file_extension": ".py",
   "mimetype": "text/x-python",
   "name": "python",
   "nbconvert_exporter": "python",
   "pygments_lexer": "ipython2",
   "version": "2.7.12"
  }
 },
 "nbformat": 4,
 "nbformat_minor": 2
}
